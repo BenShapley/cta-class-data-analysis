{
 "cells": [
  {
   "cell_type": "markdown",
   "id": "0683b6ec-c9fd-4b99-83d7-65981993e995",
   "metadata": {},
   "source": [
    "# CTA Assignment: Class Data\n",
    "Ben Shapley | 24/10/2024"
   ]
  },
  {
   "cell_type": "code",
   "execution_count": 104,
   "id": "7c3b7684-438c-4839-942c-79a10a68711b",
   "metadata": {},
   "outputs": [],
   "source": [
    "import pandas as pd\n",
    "import matplotlib.pyplot as plt\n",
    "%matplotlib inline\n",
    "\n",
    "path = \"Data/ClassData.csv\"\n",
    "my_class = pd.read_csv(path)"
   ]
  },
  {
   "cell_type": "markdown",
   "id": "23140675-26e3-49bd-8365-592f2cf57b15",
   "metadata": {},
   "source": [
    "### Class Reference"
   ]
  },
  {
   "cell_type": "code",
   "execution_count": 105,
   "id": "76bbfeae-6159-4c7e-98b5-2c82590db8ac",
   "metadata": {},
   "outputs": [
    {
     "data": {
      "text/html": [
       "<div>\n",
       "<style scoped>\n",
       "    .dataframe tbody tr th:only-of-type {\n",
       "        vertical-align: middle;\n",
       "    }\n",
       "\n",
       "    .dataframe tbody tr th {\n",
       "        vertical-align: top;\n",
       "    }\n",
       "\n",
       "    .dataframe thead th {\n",
       "        text-align: right;\n",
       "    }\n",
       "</style>\n",
       "<table border=\"1\" class=\"dataframe\">\n",
       "  <thead>\n",
       "    <tr style=\"text-align: right;\">\n",
       "      <th></th>\n",
       "      <th>timestamp</th>\n",
       "      <th>unreal_feelings</th>\n",
       "      <th>unreal_favourite</th>\n",
       "      <th>coding_languages</th>\n",
       "      <th>lucky_number</th>\n",
       "      <th>music_genre</th>\n",
       "      <th>object_choice</th>\n",
       "      <th>object_reason</th>\n",
       "    </tr>\n",
       "  </thead>\n",
       "  <tbody>\n",
       "    <tr>\n",
       "      <th>0</th>\n",
       "      <td>2024/10/17 12:59:01 pm CET</td>\n",
       "      <td>Confident</td>\n",
       "      <td>World Building</td>\n",
       "      <td>I am new to coding!!</td>\n",
       "      <td>3</td>\n",
       "      <td>Rap/HipHop</td>\n",
       "      <td>Dog Toy</td>\n",
       "      <td>i can play with doggo</td>\n",
       "    </tr>\n",
       "    <tr>\n",
       "      <th>1</th>\n",
       "      <td>2024/10/17 1:01:24 pm CET</td>\n",
       "      <td>I am lost (help)</td>\n",
       "      <td>World Building</td>\n",
       "      <td>C++;JavaScript</td>\n",
       "      <td>0</td>\n",
       "      <td>R&amp;b</td>\n",
       "      <td>Laptop</td>\n",
       "      <td>Idk</td>\n",
       "    </tr>\n",
       "    <tr>\n",
       "      <th>2</th>\n",
       "      <td>2024/10/17 1:01:57 pm CET</td>\n",
       "      <td>I am lost (help)</td>\n",
       "      <td>Blueprints</td>\n",
       "      <td>Python;C++;JavaScript;HTML, CSS, CircuitPython</td>\n",
       "      <td>7</td>\n",
       "      <td>Reggaetón</td>\n",
       "      <td>Suitcase</td>\n",
       "      <td>I am always carrying loads</td>\n",
       "    </tr>\n",
       "    <tr>\n",
       "      <th>3</th>\n",
       "      <td>2024/10/17 1:03:52 pm CET</td>\n",
       "      <td>Im having fun</td>\n",
       "      <td>Looking at the marketplace</td>\n",
       "      <td>I am new to coding!!</td>\n",
       "      <td>52</td>\n",
       "      <td>Pop</td>\n",
       "      <td>Bread</td>\n",
       "      <td>It smells good!</td>\n",
       "    </tr>\n",
       "    <tr>\n",
       "      <th>4</th>\n",
       "      <td>2024/10/17 1:06:52 pm CET</td>\n",
       "      <td>Im having fun</td>\n",
       "      <td>World Building</td>\n",
       "      <td>C#;C++</td>\n",
       "      <td>7</td>\n",
       "      <td>Jazz/Blues</td>\n",
       "      <td>Bread</td>\n",
       "      <td>yummy bread</td>\n",
       "    </tr>\n",
       "    <tr>\n",
       "      <th>5</th>\n",
       "      <td>2024/10/17 1:09:54 pm CET</td>\n",
       "      <td>Im having fun</td>\n",
       "      <td>Blueprints</td>\n",
       "      <td>Python</td>\n",
       "      <td>3</td>\n",
       "      <td>Rock/Metal</td>\n",
       "      <td>Laptop</td>\n",
       "      <td>smart</td>\n",
       "    </tr>\n",
       "    <tr>\n",
       "      <th>6</th>\n",
       "      <td>2024/10/17 1:23:11 pm CET</td>\n",
       "      <td>Im having fun</td>\n",
       "      <td>World Building</td>\n",
       "      <td>I am new to coding!!</td>\n",
       "      <td>7</td>\n",
       "      <td>Electronic</td>\n",
       "      <td>Dog Toy</td>\n",
       "      <td>Because it's cute</td>\n",
       "    </tr>\n",
       "    <tr>\n",
       "      <th>7</th>\n",
       "      <td>2024/10/17 1:27:06 pm CET</td>\n",
       "      <td>Im having fun</td>\n",
       "      <td>Blueprints</td>\n",
       "      <td>JavaScript</td>\n",
       "      <td>12</td>\n",
       "      <td>Lofi</td>\n",
       "      <td>Table</td>\n",
       "      <td>stable</td>\n",
       "    </tr>\n",
       "    <tr>\n",
       "      <th>8</th>\n",
       "      <td>2024/10/17 1:29:10 pm CET</td>\n",
       "      <td>Im having fun</td>\n",
       "      <td>World Building</td>\n",
       "      <td>I am new to coding!!</td>\n",
       "      <td>3</td>\n",
       "      <td>Pop</td>\n",
       "      <td>Laptop</td>\n",
       "      <td>i spend too much time looking at one</td>\n",
       "    </tr>\n",
       "    <tr>\n",
       "      <th>9</th>\n",
       "      <td>2024/10/17 1:32:55 pm CET</td>\n",
       "      <td>Im having fun</td>\n",
       "      <td>Blueprints</td>\n",
       "      <td>I am new to coding!!</td>\n",
       "      <td>36</td>\n",
       "      <td>Electronic</td>\n",
       "      <td>Table</td>\n",
       "      <td>tables are dope</td>\n",
       "    </tr>\n",
       "    <tr>\n",
       "      <th>10</th>\n",
       "      <td>2024/10/17 1:36:34 pm CET</td>\n",
       "      <td>Im having fun</td>\n",
       "      <td>Blueprints</td>\n",
       "      <td>JavaScript</td>\n",
       "      <td>8</td>\n",
       "      <td>Jazz/Blues</td>\n",
       "      <td>Bread</td>\n",
       "      <td>Because I wanna be made of money (aka bread)</td>\n",
       "    </tr>\n",
       "    <tr>\n",
       "      <th>11</th>\n",
       "      <td>2024/10/17 1:43:31 pm CET</td>\n",
       "      <td>Im having fun</td>\n",
       "      <td>Looking at the marketplace</td>\n",
       "      <td>I am new to coding!!</td>\n",
       "      <td>0</td>\n",
       "      <td>Depends on my mood!</td>\n",
       "      <td>Dog Toy</td>\n",
       "      <td>I love dogs</td>\n",
       "    </tr>\n",
       "    <tr>\n",
       "      <th>12</th>\n",
       "      <td>2024/10/17 1:52:59 pm CET</td>\n",
       "      <td>Im having fun</td>\n",
       "      <td>Blueprints</td>\n",
       "      <td>Python;JavaScript;CSS + HTML</td>\n",
       "      <td>13</td>\n",
       "      <td>Electronic</td>\n",
       "      <td>Bread</td>\n",
       "      <td>Bread is funny lol</td>\n",
       "    </tr>\n",
       "    <tr>\n",
       "      <th>13</th>\n",
       "      <td>2024/10/17 1:59:14 pm CET</td>\n",
       "      <td>I am lost (help)</td>\n",
       "      <td>Blueprints</td>\n",
       "      <td>Python;C++;JavaScript</td>\n",
       "      <td>1</td>\n",
       "      <td>Rap/HipHop</td>\n",
       "      <td>Bread</td>\n",
       "      <td>Looks simple, but complex ;)</td>\n",
       "    </tr>\n",
       "    <tr>\n",
       "      <th>14</th>\n",
       "      <td>2024/10/17 2:08:39 pm CET</td>\n",
       "      <td>Meh</td>\n",
       "      <td>Looking at the marketplace</td>\n",
       "      <td>R</td>\n",
       "      <td>3</td>\n",
       "      <td>Indie</td>\n",
       "      <td>Suitcase</td>\n",
       "      <td>Hard exterior- but the inside is usually a sur...</td>\n",
       "    </tr>\n",
       "    <tr>\n",
       "      <th>15</th>\n",
       "      <td>2024/10/17 2:09:07 pm CET</td>\n",
       "      <td>Meh</td>\n",
       "      <td>Blueprints</td>\n",
       "      <td>I am new to coding!!</td>\n",
       "      <td>7</td>\n",
       "      <td>Pop</td>\n",
       "      <td>Bread</td>\n",
       "      <td>NaN</td>\n",
       "    </tr>\n",
       "    <tr>\n",
       "      <th>16</th>\n",
       "      <td>2024/10/20 2:07:37 pm CET</td>\n",
       "      <td>Im having fun</td>\n",
       "      <td>getting familiar with it</td>\n",
       "      <td>I am new to coding!!</td>\n",
       "      <td>0</td>\n",
       "      <td>Afrobeats... love all genres too</td>\n",
       "      <td>Laptop</td>\n",
       "      <td>I can come alive</td>\n",
       "    </tr>\n",
       "  </tbody>\n",
       "</table>\n",
       "</div>"
      ],
      "text/plain": [
       "                     timestamp   unreal_feelings            unreal_favourite  \\\n",
       "0   2024/10/17 12:59:01 pm CET         Confident              World Building   \n",
       "1    2024/10/17 1:01:24 pm CET  I am lost (help)              World Building   \n",
       "2    2024/10/17 1:01:57 pm CET  I am lost (help)                  Blueprints   \n",
       "3    2024/10/17 1:03:52 pm CET     Im having fun  Looking at the marketplace   \n",
       "4    2024/10/17 1:06:52 pm CET     Im having fun              World Building   \n",
       "5    2024/10/17 1:09:54 pm CET     Im having fun                  Blueprints   \n",
       "6    2024/10/17 1:23:11 pm CET     Im having fun              World Building   \n",
       "7    2024/10/17 1:27:06 pm CET     Im having fun                  Blueprints   \n",
       "8    2024/10/17 1:29:10 pm CET     Im having fun              World Building   \n",
       "9    2024/10/17 1:32:55 pm CET     Im having fun                  Blueprints   \n",
       "10   2024/10/17 1:36:34 pm CET     Im having fun                  Blueprints   \n",
       "11   2024/10/17 1:43:31 pm CET     Im having fun  Looking at the marketplace   \n",
       "12   2024/10/17 1:52:59 pm CET     Im having fun                  Blueprints   \n",
       "13   2024/10/17 1:59:14 pm CET  I am lost (help)                  Blueprints   \n",
       "14   2024/10/17 2:08:39 pm CET               Meh  Looking at the marketplace   \n",
       "15   2024/10/17 2:09:07 pm CET               Meh                  Blueprints   \n",
       "16   2024/10/20 2:07:37 pm CET     Im having fun    getting familiar with it   \n",
       "\n",
       "                                  coding_languages  lucky_number  \\\n",
       "0                             I am new to coding!!             3   \n",
       "1                                   C++;JavaScript             0   \n",
       "2   Python;C++;JavaScript;HTML, CSS, CircuitPython             7   \n",
       "3                             I am new to coding!!            52   \n",
       "4                                           C#;C++             7   \n",
       "5                                           Python             3   \n",
       "6                             I am new to coding!!             7   \n",
       "7                                       JavaScript            12   \n",
       "8                             I am new to coding!!             3   \n",
       "9                             I am new to coding!!            36   \n",
       "10                                      JavaScript             8   \n",
       "11                            I am new to coding!!             0   \n",
       "12                    Python;JavaScript;CSS + HTML            13   \n",
       "13                           Python;C++;JavaScript             1   \n",
       "14                                               R             3   \n",
       "15                            I am new to coding!!             7   \n",
       "16                            I am new to coding!!             0   \n",
       "\n",
       "                         music_genre object_choice  \\\n",
       "0                         Rap/HipHop       Dog Toy   \n",
       "1                                R&b        Laptop   \n",
       "2                          Reggaetón      Suitcase   \n",
       "3                                Pop         Bread   \n",
       "4                         Jazz/Blues         Bread   \n",
       "5                         Rock/Metal        Laptop   \n",
       "6                         Electronic       Dog Toy   \n",
       "7                               Lofi         Table   \n",
       "8                                Pop        Laptop   \n",
       "9                         Electronic         Table   \n",
       "10                        Jazz/Blues         Bread   \n",
       "11               Depends on my mood!       Dog Toy   \n",
       "12                        Electronic         Bread   \n",
       "13                        Rap/HipHop         Bread   \n",
       "14                             Indie      Suitcase   \n",
       "15                               Pop         Bread   \n",
       "16  Afrobeats... love all genres too        Laptop   \n",
       "\n",
       "                                        object_reason  \n",
       "0                               i can play with doggo  \n",
       "1                                                 Idk  \n",
       "2                         I am always carrying loads   \n",
       "3                                     It smells good!  \n",
       "4                                         yummy bread  \n",
       "5                                               smart  \n",
       "6                                   Because it's cute  \n",
       "7                                              stable  \n",
       "8               i spend too much time looking at one   \n",
       "9                                     tables are dope  \n",
       "10       Because I wanna be made of money (aka bread)  \n",
       "11                                        I love dogs  \n",
       "12                                 Bread is funny lol  \n",
       "13                       Looks simple, but complex ;)  \n",
       "14  Hard exterior- but the inside is usually a sur...  \n",
       "15                                                NaN  \n",
       "16                                  I can come alive   "
      ]
     },
     "metadata": {},
     "output_type": "display_data"
    }
   ],
   "source": [
    "# Visual Reference\n",
    "display(my_class)"
   ]
  },
  {
   "cell_type": "markdown",
   "id": "cc568312-8939-43a6-8213-4eb0c1c1deb1",
   "metadata": {},
   "source": [
    "### Find the luckiest number in the data column"
   ]
  },
  {
   "cell_type": "code",
   "execution_count": 106,
   "id": "18838644-8c37-4426-bfbd-46f0be6838e8",
   "metadata": {},
   "outputs": [
    {
     "name": "stdout",
     "output_type": "stream",
     "text": [
      "The highest lucky number is 52\n"
     ]
    }
   ],
   "source": [
    "# Simple max function to find highest lucky number\n",
    "print(f\"The highest lucky number is\", int(my_class.lucky_number.max()))"
   ]
  },
  {
   "cell_type": "markdown",
   "id": "dcea9cb7-8a82-45c1-8491-e8bad359cbea",
   "metadata": {},
   "source": [
    "### How many people are enjoying Unreal and what they like (with amount)"
   ]
  },
  {
   "cell_type": "code",
   "execution_count": 107,
   "id": "1f24afb1-355e-4b8b-9a89-984be9006a21",
   "metadata": {},
   "outputs": [
    {
     "name": "stdout",
     "output_type": "stream",
     "text": [
      "[('Blueprints', 5), ('World Building', 3), ('Looking at the marketplace', 2)]\n",
      "11 people are having fun with Unreal Engine at the moment! These people are really enjoying: Blueprints (5x people), World Building (3x people), Looking at the marketplace (2x people), \n"
     ]
    }
   ],
   "source": [
    "from collections import Counter\n",
    "\n",
    "# Filter to everyone enjoying Unreal\n",
    "unreal_enjoyers = my_class[[enjoy for enjoy in my_class.unreal_feelings == \"Im having fun\"]]\n",
    "\n",
    "# Find what they enjoy about Unreal\n",
    "unreal_fav = unreal_enjoyers.unreal_favourite\n",
    "\n",
    "# Get the 3 most common answers\n",
    "unreal_fav_common = Counter(unreal_fav).most_common(3)\n",
    "print(unreal_fav_common)\n",
    "\n",
    "# Convert these to a string with indexing\n",
    "unreal_fav_str = \"\".join(f\"{fun[0]} ({fun[1]}x people), \" for fun in unreal_fav_common)\n",
    "\n",
    "print(f\"{len(unreal_lovers)} people are having fun with Unreal Engine at the moment! These people are really enjoying: {unreal_fav_str}\")"
   ]
  },
  {
   "cell_type": "markdown",
   "id": "740ac9fc-8c9b-4d4a-8342-745488cfa347",
   "metadata": {},
   "source": [
    "### Areas of Unreal people commonly enjoy (Graph)"
   ]
  },
  {
   "cell_type": "code",
   "execution_count": 108,
   "id": "b0282935-6491-4b7e-9eb5-8af3580597f7",
   "metadata": {},
   "outputs": [
    {
     "data": {
      "image/png": "[encoded data removed]",
      "text/plain": [
       "<Figure size 640x480 with 1 Axes>"
      ]
     },
     "metadata": {},
     "output_type": "display_data"
    }
   ],
   "source": [
    "# Get the amount of people that like each category\n",
    "# Converting to int just in case\n",
    "unreal_numbers = [int(x[1]) for x in unreal_fav_common]\n",
    "    ##[for x in unreal_numbers:\n",
    "    ##    print(x)\n",
    "\n",
    "# Doing the same but getting the string at index 0\n",
    "unreal_str = [str(x[0]) for x in unreal_fav_common]\n",
    "\n",
    "# Creating a Data Frame\n",
    "data = pd.DataFrame({\n",
    "    'Strings': unreal_str,\n",
    "    'Numbers': unreal_numbers\n",
    "})\n",
    "\n",
    "# Plotting the X & Y\n",
    "plt.bar(data['Strings'], data['Numbers'])\n",
    "plt.xlabel('Unreal Areas')\n",
    "plt.ylabel('Number of people')\n",
    "plt.title('What areas of Unreal do people most enjoy?')\n",
    "plt.show()"
   ]
  },
  {
   "cell_type": "markdown",
   "id": "da268b42-9f80-4403-8b5f-9893f6daa785",
   "metadata": {},
   "source": [
    "### Most people enjoying Unreal are new to Coding"
   ]
  },
  {
   "cell_type": "code",
   "execution_count": 109,
   "id": "b6dc0916-1f7d-4b2c-81bd-c0e9d188e626",
   "metadata": {},
   "outputs": [
    {
     "name": "stdout",
     "output_type": "stream",
     "text": [
      "Most people enjoying Unreal said they were 'new to coding' (6x people),\n"
     ]
    }
   ],
   "source": [
    "# Filtering to coding languages data\n",
    "coding_exp = unreal_lovers.coding_languages\n",
    "\n",
    "# Get the most common result\n",
    "coding_exp_common = Counter(coding_exp).most_common(1)\n",
    "\n",
    "# Convert to a string to see what coding experience the people who are enjoying UE have\n",
    "coding_exp_common_str = \"\".join(f\"Most people enjoying Unreal said they were '{lang[0][5:18]}' ({lang[1]}x people),\" for lang in coding_exp_common)\n",
    "print(coding_exp_common_str)"
   ]
  },
  {
   "cell_type": "markdown",
   "id": "13a03e73-e4ad-4bd7-96fa-f739236cce2f",
   "metadata": {},
   "source": [
    "### Median Lucky Number of the class (Graph)"
   ]
  },
  {
   "cell_type": "code",
   "execution_count": 110,
   "id": "cd50ebbf-da0d-4494-b1b8-6b1db9841ca7",
   "metadata": {},
   "outputs": [
    {
     "name": "stdout",
     "output_type": "stream",
     "text": [
      "The median lucky number of the class is 7.0\n"
     ]
    },
    {
     "data": {
      "image/png": "[encoded data removed]",
      "text/plain": [
       "<Figure size 640x480 with 1 Axes>"
      ]
     },
     "metadata": {},
     "output_type": "display_data"
    }
   ],
   "source": [
    "# Creating a Histogram representing the lucky numbers data\n",
    "plt.hist(my_class.lucky_number, bins=50)\n",
    "plt.xlabel('Lucky Number')\n",
    "plt.ylabel('People')\n",
    "plt.title('Lucky number people')\n",
    "\n",
    "# Find & print the median of these numbers\n",
    "median_lucky_no = my_class.lucky_number.median()\n",
    "print(f\"The median lucky number of the class is {median_lucky_no}\")"
   ]
  },
  {
   "cell_type": "markdown",
   "id": "21ebdb1a-2297-47ed-8c0b-713ad8d76759",
   "metadata": {},
   "source": [
    "### Highest Lucky Number & Desire Relation"
   ]
  },
  {
   "cell_type": "code",
   "execution_count": 111,
   "id": "bf64906c-0dd4-48ea-a7f3-adcb3ea7f6b1",
   "metadata": {},
   "outputs": [
    {
     "name": "stdout",
     "output_type": "stream",
     "text": [
      "The highest lucky number is 52 and they really want to be bread because 'it smells good!'.\n"
     ]
    }
   ],
   "source": [
    "# Simple variable for the highest lucky no.\n",
    "highest_no = max(my_class.lucky_number)\n",
    "\n",
    "# Find the person's data that chose this number\n",
    "highest_no_person = my_class[my_class[\"lucky_number\"]==highest_no]\n",
    "\n",
    "# Print the number & a what object they would like to be\n",
    "print(f\"The highest lucky number is {highest_no} and they really want to be {highest_no_person[\"object_choice\"].item().lower()} because '{highest_no_person[\"object_reason\"].item().lower()}'.\")"
   ]
  },
  {
   "cell_type": "markdown",
   "id": "2f7f407c-8e1f-4bb8-b29d-29fed4d09d37",
   "metadata": {},
   "source": [
    "### People with 0 as Lucky Number & Desire Relation"
   ]
  },
  {
   "cell_type": "code",
   "execution_count": 112,
   "id": "847608d8-264f-4c98-ab00-56de47fdf9d6",
   "metadata": {},
   "outputs": [
    {
     "name": "stdout",
     "output_type": "stream",
     "text": [
      "The lowest lucky number is 0 and this person really want to be a laptop because 'idk'.\n",
      "The lowest lucky number is 0 and this person really want to be a dog toy because 'i love dogs'.\n",
      "The lowest lucky number is 0 and this person really want to be a laptop because 'i can come alive '.\n"
     ]
    }
   ],
   "source": [
    "# Same as above but with the 3 lowest numbers\n",
    "lowest_no = min(my_class.lucky_number)\n",
    "lowest_no_person = my_class[my_class[\"lucky_number\"]==lowest_no]\n",
    "\n",
    "for index, row in lowest_no_person.iterrows():\n",
    "    ##print(row)\n",
    "    print(f\"The lowest lucky number is {lowest_no} and this person really want to be a {row['object_choice'].lower()} because '{row['object_reason'].lower()}'.\")"
   ]
  }
 ],
 "metadata": {
  "kernelspec": {
   "display_name": "Python 3 (ipykernel)",
   "language": "python",
   "name": "python3"
  },
  "language_info": {
   "codemirror_mode": {
    "name": "ipython",
    "version": 3
   },
   "file_extension": ".py",
   "mimetype": "text/x-python",
   "name": "python",
   "nbconvert_exporter": "python",
   "pygments_lexer": "ipython3",
   "version": "3.12.7"
  }
 },
 "nbformat": 4,
 "nbformat_minor": 5
}
